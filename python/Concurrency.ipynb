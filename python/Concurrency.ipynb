{
 "cells": [
  {
   "cell_type": "markdown",
   "metadata": {},
   "source": [
    "## Import package"
   ]
  },
  {
   "cell_type": "code",
   "execution_count": 2,
   "metadata": {},
   "outputs": [],
   "source": [
    "# concurency package\n",
    "import threading as th\n",
    "import multiprocessing as mp\n",
    "import concurrent.futures\n",
    "import asyncio\n",
    "import aiohttp\n",
    "\n",
    "import datetime\n",
    "import functools\n",
    "import time\n",
    "import requests\n",
    "import os"
   ]
  },
  {
   "cell_type": "markdown",
   "metadata": {},
   "source": [
    "## Tranditional multiprocessing and threading"
   ]
  },
  {
   "cell_type": "code",
   "execution_count": 12,
   "metadata": {},
   "outputs": [],
   "source": [
    "# use multiprocessing and threading\n",
    "\n",
    "# cal cost time\n",
    "def timer(func):\n",
    "    \"\"\"Print the runtime of the decorated function\"\"\"\n",
    "    @functools.wraps(func)\n",
    "    def wrapper_timer(*args, **kwargs):\n",
    "        start_time = time.perf_counter()    # 1\n",
    "        value = func(*args, **kwargs)\n",
    "        end_time = time.perf_counter()      # 2\n",
    "        run_time = end_time - start_time    # 3\n",
    "        print(f\"Finished {func.__name__!r} in {run_time:.4f} secs\")\n",
    "        return value\n",
    "    return wrapper_timer\n",
    "\n",
    "# Fibonacci\n",
    "def fib(n):\n",
    "    if n < 2:\n",
    "        return 1\n",
    "    return fib(n - 1) + fib(n - 2)\n",
    "\n",
    "def do_some_fib(n, start):\n",
    "    finish = fib(n)\n",
    "    print(f'{n} ', th.current_thread().name)\n",
    "    print(f'{n} pid:', os.getpid())\n",
    "    print(f'{n} parent id:', os.getppid())\n",
    "    print(f'Complete {n} levels FIB. Answer is {finish}. Cost time {datetime.datetime.now() - start}\\n')\n",
    "\n",
    "\n",
    "FIBS = [35, 28, 1, 25, 10]\n",
    "@timer\n",
    "def threading_fib():\n",
    "    threads = []\n",
    "    for i in range(len(FIBS)):\n",
    "        threads.append(th.Thread(target=do_some_fib, args=(FIBS[i], datetime.datetime.now())))\n",
    "        threads[i].start()\n",
    "\n",
    "    for i in range(len(FIBS)):\n",
    "        threads[i].join()\n",
    "        \n",
    "@timer\n",
    "def processing_fib():\n",
    "    processes = []\n",
    "    for i in range(len(FIBS)):\n",
    "        processes.append(mp.Process(target=do_some_fib, args=(FIBS[i], datetime.datetime.now())))\n",
    "        processes[i].start()  \n",
    "    for i in range(len(FIBS)):\n",
    "        processes[i].join()\n",
    "        \n",
    "@timer    \n",
    "def sync_fib():\n",
    "    for i in FIBS:\n",
    "        do_some_fib(i, datetime.datetime.now())"
   ]
  },
  {
   "cell_type": "code",
   "execution_count": 10,
   "metadata": {},
   "outputs": [
    {
     "name": "stdout",
     "output_type": "stream",
     "text": [
      "35  MainThread\n",
      "35 pid: 116124\n",
      "35 parent id: 114367\n",
      "Complete 35 levels FIB. Answer is 14930352. Cost time 0:00:03.427871\n",
      "\n",
      "28  MainThread\n",
      "28 pid: 116124\n",
      "28 parent id: 114367\n",
      "Complete 28 levels FIB. Answer is 514229. Cost time 0:00:00.110496\n",
      "\n",
      "1  MainThread\n",
      "1 pid: 116124\n",
      "1 parent id: 114367\n",
      "Complete 1 levels FIB. Answer is 1. Cost time 0:00:00.000093\n",
      "\n",
      "25  MainThread\n",
      "25 pid: 116124\n",
      "25 parent id: 114367\n",
      "Complete 25 levels FIB. Answer is 121393. Cost time 0:00:00.027719\n",
      "\n",
      "10  MainThread\n",
      "10 pid: 116124\n",
      "10 parent id: 114367\n",
      "Complete 10 levels FIB. Answer is 89. Cost time 0:00:00.001258\n",
      "\n",
      "Finished 'sync_fib' in 3.5677 secs\n"
     ]
    }
   ],
   "source": [
    "sync_fib()"
   ]
  },
  {
   "cell_type": "code",
   "execution_count": 17,
   "metadata": {},
   "outputs": [
    {
     "name": "stdout",
     "output_type": "stream",
     "text": [
      "1  Thread-41\n",
      "1 pid: 116124\n",
      "1 parent id: 114367\n",
      "Complete 1 levels FIB. Answer is 1. Cost time 0:00:00.032167\n",
      "\n",
      "10  Thread-43\n",
      "10 pid: 116124\n",
      "25  Thread-42\n",
      "25 pid: 116124\n",
      "25 parent id: 114367\n",
      "Complete 25 levels FIB. Answer is 121393. Cost time 0:00:00.134112\n",
      "\n",
      "10 parent id: 114367\n",
      "Complete 10 levels FIB. Answer is 89. Cost time 0:00:00.191300\n",
      "\n",
      "28  Thread-40\n",
      "28 pid: 116124\n",
      "28 parent id: 114367\n",
      "Complete 28 levels FIB. Answer is 514229. Cost time 0:00:00.467486\n",
      "\n",
      "35  Thread-39\n",
      "35 pid: 116124\n",
      "35 parent id: 114367\n",
      "Complete 35 levels FIB. Answer is 14930352. Cost time 0:00:03.706364\n",
      "\n",
      "Finished 'threading_fib' in 3.7076 secs\n",
      "--------------------------------------------------\n",
      "1  MainThread\n",
      "1 pid: 7395\n",
      "1 parent id: 116124\n",
      "Complete 1 levels FIB. Answer is 1. Cost time 0:00:00.017431\n",
      "10  MainThread\n",
      "\n",
      "10 pid: 7399\n",
      "10 parent id: 116124\n",
      "Complete 10 levels FIB. Answer is 89. Cost time 0:00:00.013438\n",
      "\n",
      "25  MainThread\n",
      "25 pid: 7396\n",
      "25 parent id: 116124\n",
      "Complete 25 levels FIB. Answer is 121393. Cost time 0:00:00.070020\n",
      "\n",
      "28  MainThread\n",
      "28 pid: 7394\n",
      "28 parent id: 116124\n",
      "Complete 28 levels FIB. Answer is 514229. Cost time 0:00:00.188227\n",
      "\n",
      "35  MainThread\n",
      "35 pid: 7393\n",
      "35 parent id: 116124\n",
      "Complete 35 levels FIB. Answer is 14930352. Cost time 0:00:03.430769\n",
      "\n",
      "Finished 'processing_fib' in 3.4345 secs\n"
     ]
    }
   ],
   "source": [
    "threading_fib()\n",
    "print('-' * 50)\n",
    "processing_fib()"
   ]
  },
  {
   "cell_type": "markdown",
   "metadata": {},
   "source": [
    "## Concurrent future package (Python 3.4+)"
   ]
  },
  {
   "cell_type": "code",
   "execution_count": 180,
   "metadata": {},
   "outputs": [],
   "source": [
    "URLS = [\n",
    "    'https://docs.python.org/3/library/ast.html',\n",
    "    'https://docs.python.org/3/library/abc.html',\n",
    "    'https://docs.python.org/3/library/time.html',\n",
    "    'https://docs.python.org/3/library/os.html',\n",
    "    'https://docs.python.org/3/library/sys.html',\n",
    "    'https://docs.python.org/3/library/io.html',\n",
    "    'https://docs.python.org/3/library/pdb.html',\n",
    "    'https://docs.python.org/3/library/weakref.html'\n",
    "]\n",
    "\n",
    "# use cocurrent\n",
    "\n",
    "@timer\n",
    "def get_content(url):\n",
    "    print(url)\n",
    "    print(f'{url} | ', th.current_thread().name, f' | pid:', os.getpid(), f' | parent id:', os.getppid())\n",
    "    return requests.get(url).text\n",
    "\n",
    "@timer\n",
    "def thread_scrap():\n",
    "    with concurrent.futures.ThreadPoolExecutor(max_workers=10) as executor:\n",
    "        future_to_url = {executor.submit(get_content, url): url for url in URLS}\n",
    "        print(future_to_url)\n",
    "        for future in concurrent.futures.as_completed(future_to_url):\n",
    "            url = future_to_url[future]\n",
    "            try:\n",
    "                data = future.result()\n",
    "            except Execption as exc:\n",
    "                print('%r generated an exception: %s' % (url, exc))\n",
    "            else:\n",
    "                print('%r page length is %d' % (url, len(data)))\n",
    "\n",
    "@timer\n",
    "def processing_scrap():\n",
    "    with concurrent.futures.ProcessPoolExecutor(10) as executor:\n",
    "        future_to_url = {}\n",
    "        for key, value in zip(URLS, executor.map(get_content, URLS)):\n",
    "            future_to_url[key] = value\n",
    "            print('%r page length is %d' % (key, len(value)))\n",
    "\n",
    "                \n",
    "@timer\n",
    "def main():\n",
    "    for url in URLS:\n",
    "        try:\n",
    "            data = get_content(url)\n",
    "        except Exception as exc:\n",
    "            print('%r generated an exception: %s' % (url, exc))\n",
    "        else:\n",
    "            print('%r page length is %d' % (url, len(data)))"
   ]
  },
  {
   "cell_type": "code",
   "execution_count": 178,
   "metadata": {},
   "outputs": [
    {
     "name": "stdout",
     "output_type": "stream",
     "text": [
      "https://docs.python.org/3/library/ast.html\n",
      "https://docs.python.org/3/library/ast.html |  MainThread  | pid: 64284  | parent id: 64150\n",
      "Finished 'get_content' in 3.1750 secs\n",
      "'https://docs.python.org/3/library/ast.html' page length is 40454\n",
      "https://docs.python.org/3/library/abc.html\n",
      "https://docs.python.org/3/library/abc.html |  MainThread  | pid: 64284  | parent id: 64150\n"
     ]
    },
    {
     "ename": "KeyboardInterrupt",
     "evalue": "",
     "output_type": "error",
     "traceback": [
      "\u001b[0;31m---------------------------------------------------------------------------\u001b[0m",
      "\u001b[0;31mKeyboardInterrupt\u001b[0m                         Traceback (most recent call last)",
      "\u001b[0;32m<ipython-input-178-263240bbee7e>\u001b[0m in \u001b[0;36m<module>\u001b[0;34m\u001b[0m\n\u001b[0;32m----> 1\u001b[0;31m \u001b[0mmain\u001b[0m\u001b[0;34m(\u001b[0m\u001b[0;34m)\u001b[0m\u001b[0;34m\u001b[0m\u001b[0;34m\u001b[0m\u001b[0m\n\u001b[0m",
      "\u001b[0;32m<ipython-input-61-99d94474672e>\u001b[0m in \u001b[0;36mwrapper_timer\u001b[0;34m(*args, **kwargs)\u001b[0m\n\u001b[1;32m     18\u001b[0m     \u001b[0;32mdef\u001b[0m \u001b[0mwrapper_timer\u001b[0m\u001b[0;34m(\u001b[0m\u001b[0;34m*\u001b[0m\u001b[0margs\u001b[0m\u001b[0;34m,\u001b[0m \u001b[0;34m**\u001b[0m\u001b[0mkwargs\u001b[0m\u001b[0;34m)\u001b[0m\u001b[0;34m:\u001b[0m\u001b[0;34m\u001b[0m\u001b[0;34m\u001b[0m\u001b[0m\n\u001b[1;32m     19\u001b[0m         \u001b[0mstart_time\u001b[0m \u001b[0;34m=\u001b[0m \u001b[0mtime\u001b[0m\u001b[0;34m.\u001b[0m\u001b[0mperf_counter\u001b[0m\u001b[0;34m(\u001b[0m\u001b[0;34m)\u001b[0m    \u001b[0;31m# 1\u001b[0m\u001b[0;34m\u001b[0m\u001b[0;34m\u001b[0m\u001b[0m\n\u001b[0;32m---> 20\u001b[0;31m         \u001b[0mvalue\u001b[0m \u001b[0;34m=\u001b[0m \u001b[0mfunc\u001b[0m\u001b[0;34m(\u001b[0m\u001b[0;34m*\u001b[0m\u001b[0margs\u001b[0m\u001b[0;34m,\u001b[0m \u001b[0;34m**\u001b[0m\u001b[0mkwargs\u001b[0m\u001b[0;34m)\u001b[0m\u001b[0;34m\u001b[0m\u001b[0;34m\u001b[0m\u001b[0m\n\u001b[0m\u001b[1;32m     21\u001b[0m         \u001b[0mend_time\u001b[0m \u001b[0;34m=\u001b[0m \u001b[0mtime\u001b[0m\u001b[0;34m.\u001b[0m\u001b[0mperf_counter\u001b[0m\u001b[0;34m(\u001b[0m\u001b[0;34m)\u001b[0m      \u001b[0;31m# 2\u001b[0m\u001b[0;34m\u001b[0m\u001b[0;34m\u001b[0m\u001b[0m\n\u001b[1;32m     22\u001b[0m         \u001b[0mrun_time\u001b[0m \u001b[0;34m=\u001b[0m \u001b[0mend_time\u001b[0m \u001b[0;34m-\u001b[0m \u001b[0mstart_time\u001b[0m    \u001b[0;31m# 3\u001b[0m\u001b[0;34m\u001b[0m\u001b[0;34m\u001b[0m\u001b[0m\n",
      "\u001b[0;32m<ipython-input-177-16cff7af12ba>\u001b[0m in \u001b[0;36mmain\u001b[0;34m()\u001b[0m\n\u001b[1;32m     43\u001b[0m     \u001b[0;32mfor\u001b[0m \u001b[0murl\u001b[0m \u001b[0;32min\u001b[0m \u001b[0mURLS\u001b[0m\u001b[0;34m:\u001b[0m\u001b[0;34m\u001b[0m\u001b[0;34m\u001b[0m\u001b[0m\n\u001b[1;32m     44\u001b[0m         \u001b[0;32mtry\u001b[0m\u001b[0;34m:\u001b[0m\u001b[0;34m\u001b[0m\u001b[0;34m\u001b[0m\u001b[0m\n\u001b[0;32m---> 45\u001b[0;31m             \u001b[0mdata\u001b[0m \u001b[0;34m=\u001b[0m \u001b[0mget_content\u001b[0m\u001b[0;34m(\u001b[0m\u001b[0murl\u001b[0m\u001b[0;34m)\u001b[0m\u001b[0;34m\u001b[0m\u001b[0;34m\u001b[0m\u001b[0m\n\u001b[0m\u001b[1;32m     46\u001b[0m         \u001b[0;32mexcept\u001b[0m \u001b[0mException\u001b[0m \u001b[0;32mas\u001b[0m \u001b[0mexc\u001b[0m\u001b[0;34m:\u001b[0m\u001b[0;34m\u001b[0m\u001b[0;34m\u001b[0m\u001b[0m\n\u001b[1;32m     47\u001b[0m             \u001b[0mprint\u001b[0m\u001b[0;34m(\u001b[0m\u001b[0;34m'%r generated an exception: %s'\u001b[0m \u001b[0;34m%\u001b[0m \u001b[0;34m(\u001b[0m\u001b[0murl\u001b[0m\u001b[0;34m,\u001b[0m \u001b[0mexc\u001b[0m\u001b[0;34m)\u001b[0m\u001b[0;34m)\u001b[0m\u001b[0;34m\u001b[0m\u001b[0;34m\u001b[0m\u001b[0m\n",
      "\u001b[0;32m<ipython-input-61-99d94474672e>\u001b[0m in \u001b[0;36mwrapper_timer\u001b[0;34m(*args, **kwargs)\u001b[0m\n\u001b[1;32m     18\u001b[0m     \u001b[0;32mdef\u001b[0m \u001b[0mwrapper_timer\u001b[0m\u001b[0;34m(\u001b[0m\u001b[0;34m*\u001b[0m\u001b[0margs\u001b[0m\u001b[0;34m,\u001b[0m \u001b[0;34m**\u001b[0m\u001b[0mkwargs\u001b[0m\u001b[0;34m)\u001b[0m\u001b[0;34m:\u001b[0m\u001b[0;34m\u001b[0m\u001b[0;34m\u001b[0m\u001b[0m\n\u001b[1;32m     19\u001b[0m         \u001b[0mstart_time\u001b[0m \u001b[0;34m=\u001b[0m \u001b[0mtime\u001b[0m\u001b[0;34m.\u001b[0m\u001b[0mperf_counter\u001b[0m\u001b[0;34m(\u001b[0m\u001b[0;34m)\u001b[0m    \u001b[0;31m# 1\u001b[0m\u001b[0;34m\u001b[0m\u001b[0;34m\u001b[0m\u001b[0m\n\u001b[0;32m---> 20\u001b[0;31m         \u001b[0mvalue\u001b[0m \u001b[0;34m=\u001b[0m \u001b[0mfunc\u001b[0m\u001b[0;34m(\u001b[0m\u001b[0;34m*\u001b[0m\u001b[0margs\u001b[0m\u001b[0;34m,\u001b[0m \u001b[0;34m**\u001b[0m\u001b[0mkwargs\u001b[0m\u001b[0;34m)\u001b[0m\u001b[0;34m\u001b[0m\u001b[0;34m\u001b[0m\u001b[0m\n\u001b[0m\u001b[1;32m     21\u001b[0m         \u001b[0mend_time\u001b[0m \u001b[0;34m=\u001b[0m \u001b[0mtime\u001b[0m\u001b[0;34m.\u001b[0m\u001b[0mperf_counter\u001b[0m\u001b[0;34m(\u001b[0m\u001b[0;34m)\u001b[0m      \u001b[0;31m# 2\u001b[0m\u001b[0;34m\u001b[0m\u001b[0;34m\u001b[0m\u001b[0m\n\u001b[1;32m     22\u001b[0m         \u001b[0mrun_time\u001b[0m \u001b[0;34m=\u001b[0m \u001b[0mend_time\u001b[0m \u001b[0;34m-\u001b[0m \u001b[0mstart_time\u001b[0m    \u001b[0;31m# 3\u001b[0m\u001b[0;34m\u001b[0m\u001b[0;34m\u001b[0m\u001b[0m\n",
      "\u001b[0;32m<ipython-input-177-16cff7af12ba>\u001b[0m in \u001b[0;36mget_content\u001b[0;34m(url)\u001b[0m\n\u001b[1;32m     14\u001b[0m     \u001b[0mprint\u001b[0m\u001b[0;34m(\u001b[0m\u001b[0murl\u001b[0m\u001b[0;34m)\u001b[0m\u001b[0;34m\u001b[0m\u001b[0;34m\u001b[0m\u001b[0m\n\u001b[1;32m     15\u001b[0m     \u001b[0mprint\u001b[0m\u001b[0;34m(\u001b[0m\u001b[0;34mf'{url} | '\u001b[0m\u001b[0;34m,\u001b[0m \u001b[0mth\u001b[0m\u001b[0;34m.\u001b[0m\u001b[0mcurrent_thread\u001b[0m\u001b[0;34m(\u001b[0m\u001b[0;34m)\u001b[0m\u001b[0;34m.\u001b[0m\u001b[0mname\u001b[0m\u001b[0;34m,\u001b[0m \u001b[0;34mf' | pid:'\u001b[0m\u001b[0;34m,\u001b[0m \u001b[0mos\u001b[0m\u001b[0;34m.\u001b[0m\u001b[0mgetpid\u001b[0m\u001b[0;34m(\u001b[0m\u001b[0;34m)\u001b[0m\u001b[0;34m,\u001b[0m \u001b[0;34mf' | parent id:'\u001b[0m\u001b[0;34m,\u001b[0m \u001b[0mos\u001b[0m\u001b[0;34m.\u001b[0m\u001b[0mgetppid\u001b[0m\u001b[0;34m(\u001b[0m\u001b[0;34m)\u001b[0m\u001b[0;34m)\u001b[0m\u001b[0;34m\u001b[0m\u001b[0;34m\u001b[0m\u001b[0m\n\u001b[0;32m---> 16\u001b[0;31m     \u001b[0;32mreturn\u001b[0m \u001b[0mrequests\u001b[0m\u001b[0;34m.\u001b[0m\u001b[0mget\u001b[0m\u001b[0;34m(\u001b[0m\u001b[0murl\u001b[0m\u001b[0;34m)\u001b[0m\u001b[0;34m.\u001b[0m\u001b[0mtext\u001b[0m\u001b[0;34m\u001b[0m\u001b[0;34m\u001b[0m\u001b[0m\n\u001b[0m\u001b[1;32m     17\u001b[0m \u001b[0;34m\u001b[0m\u001b[0m\n\u001b[1;32m     18\u001b[0m \u001b[0;34m@\u001b[0m\u001b[0mtimer\u001b[0m\u001b[0;34m\u001b[0m\u001b[0;34m\u001b[0m\u001b[0m\n",
      "\u001b[0;32m~/.conda/envs/demo/lib/python3.6/site-packages/requests/api.py\u001b[0m in \u001b[0;36mget\u001b[0;34m(url, params, **kwargs)\u001b[0m\n\u001b[1;32m     73\u001b[0m \u001b[0;34m\u001b[0m\u001b[0m\n\u001b[1;32m     74\u001b[0m     \u001b[0mkwargs\u001b[0m\u001b[0;34m.\u001b[0m\u001b[0msetdefault\u001b[0m\u001b[0;34m(\u001b[0m\u001b[0;34m'allow_redirects'\u001b[0m\u001b[0;34m,\u001b[0m \u001b[0;32mTrue\u001b[0m\u001b[0;34m)\u001b[0m\u001b[0;34m\u001b[0m\u001b[0;34m\u001b[0m\u001b[0m\n\u001b[0;32m---> 75\u001b[0;31m     \u001b[0;32mreturn\u001b[0m \u001b[0mrequest\u001b[0m\u001b[0;34m(\u001b[0m\u001b[0;34m'get'\u001b[0m\u001b[0;34m,\u001b[0m \u001b[0murl\u001b[0m\u001b[0;34m,\u001b[0m \u001b[0mparams\u001b[0m\u001b[0;34m=\u001b[0m\u001b[0mparams\u001b[0m\u001b[0;34m,\u001b[0m \u001b[0;34m**\u001b[0m\u001b[0mkwargs\u001b[0m\u001b[0;34m)\u001b[0m\u001b[0;34m\u001b[0m\u001b[0;34m\u001b[0m\u001b[0m\n\u001b[0m\u001b[1;32m     76\u001b[0m \u001b[0;34m\u001b[0m\u001b[0m\n\u001b[1;32m     77\u001b[0m \u001b[0;34m\u001b[0m\u001b[0m\n",
      "\u001b[0;32m~/.conda/envs/demo/lib/python3.6/site-packages/requests/api.py\u001b[0m in \u001b[0;36mrequest\u001b[0;34m(method, url, **kwargs)\u001b[0m\n\u001b[1;32m     58\u001b[0m     \u001b[0;31m# cases, and look like a memory leak in others.\u001b[0m\u001b[0;34m\u001b[0m\u001b[0;34m\u001b[0m\u001b[0;34m\u001b[0m\u001b[0m\n\u001b[1;32m     59\u001b[0m     \u001b[0;32mwith\u001b[0m \u001b[0msessions\u001b[0m\u001b[0;34m.\u001b[0m\u001b[0mSession\u001b[0m\u001b[0;34m(\u001b[0m\u001b[0;34m)\u001b[0m \u001b[0;32mas\u001b[0m \u001b[0msession\u001b[0m\u001b[0;34m:\u001b[0m\u001b[0;34m\u001b[0m\u001b[0;34m\u001b[0m\u001b[0m\n\u001b[0;32m---> 60\u001b[0;31m         \u001b[0;32mreturn\u001b[0m \u001b[0msession\u001b[0m\u001b[0;34m.\u001b[0m\u001b[0mrequest\u001b[0m\u001b[0;34m(\u001b[0m\u001b[0mmethod\u001b[0m\u001b[0;34m=\u001b[0m\u001b[0mmethod\u001b[0m\u001b[0;34m,\u001b[0m \u001b[0murl\u001b[0m\u001b[0;34m=\u001b[0m\u001b[0murl\u001b[0m\u001b[0;34m,\u001b[0m \u001b[0;34m**\u001b[0m\u001b[0mkwargs\u001b[0m\u001b[0;34m)\u001b[0m\u001b[0;34m\u001b[0m\u001b[0;34m\u001b[0m\u001b[0m\n\u001b[0m\u001b[1;32m     61\u001b[0m \u001b[0;34m\u001b[0m\u001b[0m\n\u001b[1;32m     62\u001b[0m \u001b[0;34m\u001b[0m\u001b[0m\n",
      "\u001b[0;32m~/.conda/envs/demo/lib/python3.6/site-packages/requests/sessions.py\u001b[0m in \u001b[0;36mrequest\u001b[0;34m(self, method, url, params, data, headers, cookies, files, auth, timeout, allow_redirects, proxies, hooks, stream, verify, cert, json)\u001b[0m\n\u001b[1;32m    531\u001b[0m         }\n\u001b[1;32m    532\u001b[0m         \u001b[0msend_kwargs\u001b[0m\u001b[0;34m.\u001b[0m\u001b[0mupdate\u001b[0m\u001b[0;34m(\u001b[0m\u001b[0msettings\u001b[0m\u001b[0;34m)\u001b[0m\u001b[0;34m\u001b[0m\u001b[0;34m\u001b[0m\u001b[0m\n\u001b[0;32m--> 533\u001b[0;31m         \u001b[0mresp\u001b[0m \u001b[0;34m=\u001b[0m \u001b[0mself\u001b[0m\u001b[0;34m.\u001b[0m\u001b[0msend\u001b[0m\u001b[0;34m(\u001b[0m\u001b[0mprep\u001b[0m\u001b[0;34m,\u001b[0m \u001b[0;34m**\u001b[0m\u001b[0msend_kwargs\u001b[0m\u001b[0;34m)\u001b[0m\u001b[0;34m\u001b[0m\u001b[0;34m\u001b[0m\u001b[0m\n\u001b[0m\u001b[1;32m    534\u001b[0m \u001b[0;34m\u001b[0m\u001b[0m\n\u001b[1;32m    535\u001b[0m         \u001b[0;32mreturn\u001b[0m \u001b[0mresp\u001b[0m\u001b[0;34m\u001b[0m\u001b[0;34m\u001b[0m\u001b[0m\n",
      "\u001b[0;32m~/.conda/envs/demo/lib/python3.6/site-packages/requests/sessions.py\u001b[0m in \u001b[0;36msend\u001b[0;34m(self, request, **kwargs)\u001b[0m\n\u001b[1;32m    644\u001b[0m \u001b[0;34m\u001b[0m\u001b[0m\n\u001b[1;32m    645\u001b[0m         \u001b[0;31m# Send the request\u001b[0m\u001b[0;34m\u001b[0m\u001b[0;34m\u001b[0m\u001b[0;34m\u001b[0m\u001b[0m\n\u001b[0;32m--> 646\u001b[0;31m         \u001b[0mr\u001b[0m \u001b[0;34m=\u001b[0m \u001b[0madapter\u001b[0m\u001b[0;34m.\u001b[0m\u001b[0msend\u001b[0m\u001b[0;34m(\u001b[0m\u001b[0mrequest\u001b[0m\u001b[0;34m,\u001b[0m \u001b[0;34m**\u001b[0m\u001b[0mkwargs\u001b[0m\u001b[0;34m)\u001b[0m\u001b[0;34m\u001b[0m\u001b[0;34m\u001b[0m\u001b[0m\n\u001b[0m\u001b[1;32m    647\u001b[0m \u001b[0;34m\u001b[0m\u001b[0m\n\u001b[1;32m    648\u001b[0m         \u001b[0;31m# Total elapsed time of the request (approximately)\u001b[0m\u001b[0;34m\u001b[0m\u001b[0;34m\u001b[0m\u001b[0;34m\u001b[0m\u001b[0m\n",
      "\u001b[0;32m~/.conda/envs/demo/lib/python3.6/site-packages/requests/adapters.py\u001b[0m in \u001b[0;36msend\u001b[0;34m(self, request, stream, timeout, verify, cert, proxies)\u001b[0m\n\u001b[1;32m    447\u001b[0m                     \u001b[0mdecode_content\u001b[0m\u001b[0;34m=\u001b[0m\u001b[0;32mFalse\u001b[0m\u001b[0;34m,\u001b[0m\u001b[0;34m\u001b[0m\u001b[0;34m\u001b[0m\u001b[0m\n\u001b[1;32m    448\u001b[0m                     \u001b[0mretries\u001b[0m\u001b[0;34m=\u001b[0m\u001b[0mself\u001b[0m\u001b[0;34m.\u001b[0m\u001b[0mmax_retries\u001b[0m\u001b[0;34m,\u001b[0m\u001b[0;34m\u001b[0m\u001b[0;34m\u001b[0m\u001b[0m\n\u001b[0;32m--> 449\u001b[0;31m                     \u001b[0mtimeout\u001b[0m\u001b[0;34m=\u001b[0m\u001b[0mtimeout\u001b[0m\u001b[0;34m\u001b[0m\u001b[0;34m\u001b[0m\u001b[0m\n\u001b[0m\u001b[1;32m    450\u001b[0m                 )\n\u001b[1;32m    451\u001b[0m \u001b[0;34m\u001b[0m\u001b[0m\n",
      "\u001b[0;32m~/.conda/envs/demo/lib/python3.6/site-packages/urllib3/connectionpool.py\u001b[0m in \u001b[0;36murlopen\u001b[0;34m(self, method, url, body, headers, retries, redirect, assert_same_host, timeout, pool_timeout, release_conn, chunked, body_pos, **response_kw)\u001b[0m\n\u001b[1;32m    598\u001b[0m                                                   \u001b[0mtimeout\u001b[0m\u001b[0;34m=\u001b[0m\u001b[0mtimeout_obj\u001b[0m\u001b[0;34m,\u001b[0m\u001b[0;34m\u001b[0m\u001b[0;34m\u001b[0m\u001b[0m\n\u001b[1;32m    599\u001b[0m                                                   \u001b[0mbody\u001b[0m\u001b[0;34m=\u001b[0m\u001b[0mbody\u001b[0m\u001b[0;34m,\u001b[0m \u001b[0mheaders\u001b[0m\u001b[0;34m=\u001b[0m\u001b[0mheaders\u001b[0m\u001b[0;34m,\u001b[0m\u001b[0;34m\u001b[0m\u001b[0;34m\u001b[0m\u001b[0m\n\u001b[0;32m--> 600\u001b[0;31m                                                   chunked=chunked)\n\u001b[0m\u001b[1;32m    601\u001b[0m \u001b[0;34m\u001b[0m\u001b[0m\n\u001b[1;32m    602\u001b[0m             \u001b[0;31m# If we're going to release the connection in ``finally:``, then\u001b[0m\u001b[0;34m\u001b[0m\u001b[0;34m\u001b[0m\u001b[0;34m\u001b[0m\u001b[0m\n",
      "\u001b[0;32m~/.conda/envs/demo/lib/python3.6/site-packages/urllib3/connectionpool.py\u001b[0m in \u001b[0;36m_make_request\u001b[0;34m(self, conn, method, url, timeout, chunked, **httplib_request_kw)\u001b[0m\n\u001b[1;32m    341\u001b[0m         \u001b[0;31m# Trigger any extra validation we need to do.\u001b[0m\u001b[0;34m\u001b[0m\u001b[0;34m\u001b[0m\u001b[0;34m\u001b[0m\u001b[0m\n\u001b[1;32m    342\u001b[0m         \u001b[0;32mtry\u001b[0m\u001b[0;34m:\u001b[0m\u001b[0;34m\u001b[0m\u001b[0;34m\u001b[0m\u001b[0m\n\u001b[0;32m--> 343\u001b[0;31m             \u001b[0mself\u001b[0m\u001b[0;34m.\u001b[0m\u001b[0m_validate_conn\u001b[0m\u001b[0;34m(\u001b[0m\u001b[0mconn\u001b[0m\u001b[0;34m)\u001b[0m\u001b[0;34m\u001b[0m\u001b[0;34m\u001b[0m\u001b[0m\n\u001b[0m\u001b[1;32m    344\u001b[0m         \u001b[0;32mexcept\u001b[0m \u001b[0;34m(\u001b[0m\u001b[0mSocketTimeout\u001b[0m\u001b[0;34m,\u001b[0m \u001b[0mBaseSSLError\u001b[0m\u001b[0;34m)\u001b[0m \u001b[0;32mas\u001b[0m \u001b[0me\u001b[0m\u001b[0;34m:\u001b[0m\u001b[0;34m\u001b[0m\u001b[0;34m\u001b[0m\u001b[0m\n\u001b[1;32m    345\u001b[0m             \u001b[0;31m# Py2 raises this as a BaseSSLError, Py3 raises it as socket timeout.\u001b[0m\u001b[0;34m\u001b[0m\u001b[0;34m\u001b[0m\u001b[0;34m\u001b[0m\u001b[0m\n",
      "\u001b[0;32m~/.conda/envs/demo/lib/python3.6/site-packages/urllib3/connectionpool.py\u001b[0m in \u001b[0;36m_validate_conn\u001b[0;34m(self, conn)\u001b[0m\n\u001b[1;32m    837\u001b[0m         \u001b[0;31m# Force connect early to allow us to validate the connection.\u001b[0m\u001b[0;34m\u001b[0m\u001b[0;34m\u001b[0m\u001b[0;34m\u001b[0m\u001b[0m\n\u001b[1;32m    838\u001b[0m         \u001b[0;32mif\u001b[0m \u001b[0;32mnot\u001b[0m \u001b[0mgetattr\u001b[0m\u001b[0;34m(\u001b[0m\u001b[0mconn\u001b[0m\u001b[0;34m,\u001b[0m \u001b[0;34m'sock'\u001b[0m\u001b[0;34m,\u001b[0m \u001b[0;32mNone\u001b[0m\u001b[0;34m)\u001b[0m\u001b[0;34m:\u001b[0m  \u001b[0;31m# AppEngine might not have  `.sock`\u001b[0m\u001b[0;34m\u001b[0m\u001b[0;34m\u001b[0m\u001b[0m\n\u001b[0;32m--> 839\u001b[0;31m             \u001b[0mconn\u001b[0m\u001b[0;34m.\u001b[0m\u001b[0mconnect\u001b[0m\u001b[0;34m(\u001b[0m\u001b[0;34m)\u001b[0m\u001b[0;34m\u001b[0m\u001b[0;34m\u001b[0m\u001b[0m\n\u001b[0m\u001b[1;32m    840\u001b[0m \u001b[0;34m\u001b[0m\u001b[0m\n\u001b[1;32m    841\u001b[0m         \u001b[0;32mif\u001b[0m \u001b[0;32mnot\u001b[0m \u001b[0mconn\u001b[0m\u001b[0;34m.\u001b[0m\u001b[0mis_verified\u001b[0m\u001b[0;34m:\u001b[0m\u001b[0;34m\u001b[0m\u001b[0;34m\u001b[0m\u001b[0m\n",
      "\u001b[0;32m~/.conda/envs/demo/lib/python3.6/site-packages/urllib3/connection.py\u001b[0m in \u001b[0;36mconnect\u001b[0;34m(self)\u001b[0m\n\u001b[1;32m    299\u001b[0m     \u001b[0;32mdef\u001b[0m \u001b[0mconnect\u001b[0m\u001b[0;34m(\u001b[0m\u001b[0mself\u001b[0m\u001b[0;34m)\u001b[0m\u001b[0;34m:\u001b[0m\u001b[0;34m\u001b[0m\u001b[0;34m\u001b[0m\u001b[0m\n\u001b[1;32m    300\u001b[0m         \u001b[0;31m# Add certificate verification\u001b[0m\u001b[0;34m\u001b[0m\u001b[0;34m\u001b[0m\u001b[0;34m\u001b[0m\u001b[0m\n\u001b[0;32m--> 301\u001b[0;31m         \u001b[0mconn\u001b[0m \u001b[0;34m=\u001b[0m \u001b[0mself\u001b[0m\u001b[0;34m.\u001b[0m\u001b[0m_new_conn\u001b[0m\u001b[0;34m(\u001b[0m\u001b[0;34m)\u001b[0m\u001b[0;34m\u001b[0m\u001b[0;34m\u001b[0m\u001b[0m\n\u001b[0m\u001b[1;32m    302\u001b[0m         \u001b[0mhostname\u001b[0m \u001b[0;34m=\u001b[0m \u001b[0mself\u001b[0m\u001b[0;34m.\u001b[0m\u001b[0mhost\u001b[0m\u001b[0;34m\u001b[0m\u001b[0;34m\u001b[0m\u001b[0m\n\u001b[1;32m    303\u001b[0m \u001b[0;34m\u001b[0m\u001b[0m\n",
      "\u001b[0;32m~/.conda/envs/demo/lib/python3.6/site-packages/urllib3/connection.py\u001b[0m in \u001b[0;36m_new_conn\u001b[0;34m(self)\u001b[0m\n\u001b[1;32m    157\u001b[0m         \u001b[0;32mtry\u001b[0m\u001b[0;34m:\u001b[0m\u001b[0;34m\u001b[0m\u001b[0;34m\u001b[0m\u001b[0m\n\u001b[1;32m    158\u001b[0m             conn = connection.create_connection(\n\u001b[0;32m--> 159\u001b[0;31m                 (self._dns_host, self.port), self.timeout, **extra_kw)\n\u001b[0m\u001b[1;32m    160\u001b[0m \u001b[0;34m\u001b[0m\u001b[0m\n\u001b[1;32m    161\u001b[0m         \u001b[0;32mexcept\u001b[0m \u001b[0mSocketTimeout\u001b[0m \u001b[0;32mas\u001b[0m \u001b[0me\u001b[0m\u001b[0;34m:\u001b[0m\u001b[0;34m\u001b[0m\u001b[0;34m\u001b[0m\u001b[0m\n",
      "\u001b[0;32m~/.conda/envs/demo/lib/python3.6/site-packages/urllib3/util/connection.py\u001b[0m in \u001b[0;36mcreate_connection\u001b[0;34m(address, timeout, source_address, socket_options)\u001b[0m\n\u001b[1;32m     68\u001b[0m             \u001b[0;32mif\u001b[0m \u001b[0msource_address\u001b[0m\u001b[0;34m:\u001b[0m\u001b[0;34m\u001b[0m\u001b[0;34m\u001b[0m\u001b[0m\n\u001b[1;32m     69\u001b[0m                 \u001b[0msock\u001b[0m\u001b[0;34m.\u001b[0m\u001b[0mbind\u001b[0m\u001b[0;34m(\u001b[0m\u001b[0msource_address\u001b[0m\u001b[0;34m)\u001b[0m\u001b[0;34m\u001b[0m\u001b[0;34m\u001b[0m\u001b[0m\n\u001b[0;32m---> 70\u001b[0;31m             \u001b[0msock\u001b[0m\u001b[0;34m.\u001b[0m\u001b[0mconnect\u001b[0m\u001b[0;34m(\u001b[0m\u001b[0msa\u001b[0m\u001b[0;34m)\u001b[0m\u001b[0;34m\u001b[0m\u001b[0;34m\u001b[0m\u001b[0m\n\u001b[0m\u001b[1;32m     71\u001b[0m             \u001b[0;32mreturn\u001b[0m \u001b[0msock\u001b[0m\u001b[0;34m\u001b[0m\u001b[0;34m\u001b[0m\u001b[0m\n\u001b[1;32m     72\u001b[0m \u001b[0;34m\u001b[0m\u001b[0m\n",
      "\u001b[0;31mKeyboardInterrupt\u001b[0m: "
     ]
    }
   ],
   "source": [
    "main()"
   ]
  },
  {
   "cell_type": "code",
   "execution_count": 193,
   "metadata": {},
   "outputs": [
    {
     "name": "stdout",
     "output_type": "stream",
     "text": [
      "https://docs.python.org/3/library/ast.htmlhttps://docs.python.org/3/library/abc.html\n",
      "https://docs.python.org/3/library/abc.html |  ThreadPoolExecutor-26_1  | pid: 64284  | parent id: 64150\n",
      "https://docs.python.org/3/library/time.html\n",
      "https://docs.python.org/3/library/time.html |  ThreadPoolExecutor-26_2  | pid: 64284  | parent id: 64150\n",
      "\n",
      "https://docs.python.org/3/library/ast.html |  ThreadPoolExecutor-26_0  | pid: 64284  | parent id: 64150\n",
      "https://docs.python.org/3/library/os.html\n",
      "https://docs.python.org/3/library/os.html |  ThreadPoolExecutor-26_3  | pid: 64284  | parent id: 64150\n",
      "https://docs.python.org/3/library/sys.html\n",
      "https://docs.python.org/3/library/sys.html |  https://docs.python.org/3/library/io.html\n",
      "https://docs.python.org/3/library/io.html |  ThreadPoolExecutor-26_5  | pid: 64284  | parent id: 64150\n",
      "ThreadPoolExecutor-26_4  | pid: 64284  | parent id: 64150\n",
      "https://docs.python.org/3/library/pdb.html\n",
      "https://docs.python.org/3/library/pdb.html |  https://docs.python.org/3/library/weakref.html\n",
      "https://docs.python.org/3/library/weakref.html |  ThreadPoolExecutor-26_7  | pid: 64284  | parent id: 64150\n",
      "{<Future at 0x7f91e30a1080 state=running>: 'https://docs.python.org/3/library/ast.html', <Future at 0x7f91e2fbf7f0 state=running>: 'https://docs.python.org/3/library/abc.html', <Future at 0x7f91e30a0470 state=running>: 'https://docs.python.org/3/library/time.html', <Future at 0x7f91e2fa5940 state=running>: 'https://docs.python.org/3/library/os.html', <Future at 0x7f91e2f93f28 state=running>: 'https://docs.python.org/3/library/sys.html', <Future at 0x7f91e33fc128 state=running>: 'https://docs.python.org/3/library/io.html', <Future at 0x7f91e30a7e10 state=running>: 'https://docs.python.org/3/library/pdb.html', <Future at 0x7f91e2e14b00 state=running>: 'https://docs.python.org/3/library/weakref.html'}\n",
      "ThreadPoolExecutor-26_6  | pid: 64284  | parent id: 64150\n",
      "Finished 'get_content' in 18.2328 secs\n",
      "'https://docs.python.org/3/library/weakref.html' page length is 65892\n",
      "Finished 'get_content' in 18.2557 secs\n",
      "'https://docs.python.org/3/library/io.html' page length is 125340\n",
      "Finished 'get_content' in 18.2857 secs\n",
      "'https://docs.python.org/3/library/ast.html' page length is 40454\n",
      "Finished 'get_content' in 18.2866 secs\n",
      "Finished 'get_content' in 18.2901 secs'https://docs.python.org/3/library/time.html' page length is 91959\n",
      "\n",
      "'https://docs.python.org/3/library/abc.html' page length is 42108\n",
      "Finished 'get_content' in 18.2704 secs\n",
      "'https://docs.python.org/3/library/pdb.html' page length is 55817\n",
      "Finished 'get_content' in 18.3742 secs\n",
      "'https://docs.python.org/3/library/sys.html' page length is 158108\n",
      "Finished 'get_content' in 18.4225 secs\n",
      "'https://docs.python.org/3/library/os.html' page length is 427131\n",
      "Finished 'thread_scrap' in 18.4290 secs\n",
      "--------------------------------------------------\n",
      "https://docs.python.org/3/library/abc.html\n",
      "https://docs.python.org/3/library/ast.html\n",
      "https://docs.python.org/3/library/time.html\n",
      "https://docs.python.org/3/library/os.html\n",
      "https://docs.python.org/3/library/sys.html\n",
      "https://docs.python.org/3/library/io.html\n",
      "https://docs.python.org/3/library/pdb.html\n",
      "https://docs.python.org/3/library/weakref.html\n",
      "https://docs.python.org/3/library/abc.html |  MainThread  | pid: 77452  | parent id: 64284\n",
      "https://docs.python.org/3/library/ast.html |  MainThread  | pid: 77451  | parent id: 64284\n",
      "https://docs.python.org/3/library/time.html |  MainThread  | pid: 77453  | parent id: 64284\n",
      "https://docs.python.org/3/library/os.html |  MainThread  | pid: 77454  | parent id: 64284\n",
      "https://docs.python.org/3/library/pdb.html |  MainThread  | pid: 77457  | parent id: 64284\n",
      "https://docs.python.org/3/library/sys.html |  MainThread  | pid: 77455  | parent id: 64284\n",
      "https://docs.python.org/3/library/io.html |  MainThread  | pid: 77456  | parent id: 64284\n",
      "https://docs.python.org/3/library/weakref.html |  MainThread  | pid: 77458  | parent id: 64284\n",
      "Finished 'get_content' in 3.1729 secs\n",
      "Finished 'get_content' in 3.1920 secs\n",
      "Finished 'get_content' in 3.2046 secs\n",
      "Finished 'get_content' in 3.2154 secs\n",
      "Finished 'get_content' in 3.2160 secs\n",
      "Finished 'get_content' in 3.2507 secs\n",
      "Finished 'get_content' in 3.2753 secs\n",
      "Finished 'get_content' in 3.2759 secs\n",
      "'https://docs.python.org/3/library/ast.html' page length is 40454\n",
      "'https://docs.python.org/3/library/abc.html' page length is 42108\n",
      "'https://docs.python.org/3/library/time.html' page length is 91959\n",
      "'https://docs.python.org/3/library/os.html' page length is 427131\n",
      "'https://docs.python.org/3/library/sys.html' page length is 158108\n",
      "'https://docs.python.org/3/library/io.html' page length is 125340\n",
      "'https://docs.python.org/3/library/pdb.html' page length is 55817\n",
      "'https://docs.python.org/3/library/weakref.html' page length is 65892\n",
      "Finished 'processing_scrap' in 3.3746 secs\n"
     ]
    }
   ],
   "source": [
    "thread_scrap()\n",
    "print('-' * 50)\n",
    "processing_scrap()"
   ]
  },
  {
   "cell_type": "markdown",
   "metadata": {},
   "source": [
    "## Coroutine (Async/Await)"
   ]
  },
  {
   "cell_type": "code",
   "execution_count": 98,
   "metadata": {},
   "outputs": [],
   "source": [
    "def fib_yield():\n",
    "    n1 = 0\n",
    "    yield n1\n",
    "    n2 = 1\n",
    "    yield n2\n",
    "    while True:\n",
    "        n3 = n1 + n2\n",
    "        yield n3\n",
    "        n1 = n2\n",
    "        n2 = n3\n",
    "        "
   ]
  },
  {
   "cell_type": "code",
   "execution_count": 156,
   "metadata": {},
   "outputs": [],
   "source": [
    "test = fib_yield()"
   ]
  },
  {
   "cell_type": "code",
   "execution_count": 171,
   "metadata": {},
   "outputs": [
    {
     "data": {
      "text/plain": [
       "377"
      ]
     },
     "execution_count": 171,
     "metadata": {},
     "output_type": "execute_result"
    }
   ],
   "source": [
    "next(test)"
   ]
  },
  {
   "cell_type": "code",
   "execution_count": 150,
   "metadata": {},
   "outputs": [
    {
     "data": {
      "text/plain": [
       "12586269025"
      ]
     },
     "execution_count": 150,
     "metadata": {},
     "output_type": "execute_result"
    }
   ],
   "source": []
  },
  {
   "cell_type": "code",
   "execution_count": 153,
   "metadata": {},
   "outputs": [
    {
     "name": "stdout",
     "output_type": "stream",
     "text": [
      "['https://docs.python.org/3/library/ast.html', 'https://docs.python.org/3/library/abc.html', 'https://docs.python.org/3/library/time.html', 'https://docs.python.org/3/library/os.html', 'https://docs.python.org/3/library/sys.html', 'https://docs.python.org/3/library/io.html', 'https://docs.python.org/3/library/pdb.html', 'https://docs.python.org/3/library/weakref.html']\n",
      "Finished 'get_htmls' in 0.0000 secs\n",
      "Finished 'fetch_url' in 0.0000 secs\n",
      "Finished 'fetch_url' in 0.0000 secs\n",
      "Finished 'fetch_url' in 0.0000 secs\n",
      "Finished 'fetch_url' in 0.0000 secs\n",
      "Finished 'fetch_url' in 0.0000 secs\n",
      "Finished 'fetch_url' in 0.0000 secs\n",
      "Finished 'fetch_url' in 0.0000 secs\n",
      "Finished 'fetch_url' in 0.0000 secs\n",
      "https://docs.python.org/3/library/weakref.html  Starto\n",
      "https://docs.python.org/3/library/weakref.html  MainThread\n",
      "https://docs.python.org/3/library/weakref.html pid: 64284\n",
      "https://docs.python.org/3/library/weakref.html parent id: 64150\n",
      "https://docs.python.org/3/library/weakref.html  Length is 65807. And spend 0:00:00.575699\n",
      "https://docs.python.org/3/library/os.html  Starto\n",
      "https://docs.python.org/3/library/os.html  MainThread\n",
      "https://docs.python.org/3/library/os.html pid: 64284\n",
      "https://docs.python.org/3/library/os.html parent id: 64150\n",
      "https://docs.python.org/3/library/os.html  Length is 426492. And spend 0:00:02.077239\n",
      "https://docs.python.org/3/library/sys.html  Starto\n",
      "https://docs.python.org/3/library/sys.html  MainThread\n",
      "https://docs.python.org/3/library/sys.html pid: 64284\n",
      "https://docs.python.org/3/library/sys.html parent id: 64150\n",
      "https://docs.python.org/3/library/sys.html  Length is 157852. And spend 0:00:02.603408\n",
      "https://docs.python.org/3/library/abc.html  Starto\n",
      "https://docs.python.org/3/library/abc.html  MainThread\n",
      "https://docs.python.org/3/library/abc.html pid: 64284\n",
      "https://docs.python.org/3/library/abc.html parent id: 64150\n",
      "https://docs.python.org/3/library/abc.html  Length is 42048. And spend 0:00:02.738009\n",
      "https://docs.python.org/3/library/io.html  Starto\n",
      "https://docs.python.org/3/library/io.html  MainThread\n",
      "https://docs.python.org/3/library/io.html pid: 64284\n",
      "https://docs.python.org/3/library/io.html parent id: 64150\n",
      "https://docs.python.org/3/library/ast.html  Starto\n",
      "https://docs.python.org/3/library/ast.html  MainThread\n",
      "https://docs.python.org/3/library/ast.html pid: 64284\n",
      "https://docs.python.org/3/library/ast.html parent id: 64150\n",
      "https://docs.python.org/3/library/ast.html  Length is 40378. And spend 0:00:03.082870\n",
      "https://docs.python.org/3/library/pdb.html  Starto\n",
      "https://docs.python.org/3/library/pdb.html  MainThread\n",
      "https://docs.python.org/3/library/pdb.html pid: 64284\n",
      "https://docs.python.org/3/library/pdb.html parent id: 64150\n",
      "https://docs.python.org/3/library/pdb.html  Length is 55728. And spend 0:00:03.339254\n",
      "https://docs.python.org/3/library/time.html  Starto\n",
      "https://docs.python.org/3/library/time.html  MainThread\n",
      "https://docs.python.org/3/library/time.html pid: 64284\n",
      "https://docs.python.org/3/library/time.html parent id: 64150\n",
      "https://docs.python.org/3/library/time.html  Length is 91825. And spend 0:00:03.702627\n",
      "https://docs.python.org/3/library/io.html  Length is 125181. And spend 0:00:04.126068\n",
      "I'm in get_htmls\n",
      "I'm Finish. 0:00:04.130554\n"
     ]
    }
   ],
   "source": [
    "# use asyncio \n",
    "\n",
    "@timer\n",
    "async def fetch_url(session, url):\n",
    "    start = datetime.datetime.now()\n",
    "    async with session.get(url, timeout=60 * 60) as response:\n",
    "        print(url, ' Starto')\n",
    "        print(f'{url} ', th.current_thread().name)\n",
    "        print(f'{url} pid:', os.getpid())\n",
    "        print(f'{url} parent id:', os.getppid())\n",
    "        html = await response.text()\n",
    "        print(url, f' Length is {len(html)}. And spend {datetime.datetime.now() - start}')\n",
    "\n",
    "async def fetch_all_urls(session, urls, loop):\n",
    "    await asyncio.gather(*[fetch_url(session, url) for url in urls],\n",
    "    return_exceptions=True)\n",
    "\n",
    "@timer\n",
    "async def get_htmls(urls):\n",
    "    connector = aiohttp.TCPConnector(limit=100)\n",
    "    async with aiohttp.ClientSession(loop=loop, connector=connector) as session:\n",
    "        await fetch_all_urls(session, urls, loop)\n",
    "    print('I\\'m in get_htmls')\n",
    "\n",
    "print(URLS)\n",
    "start = datetime.datetime.now()\n",
    "loop = asyncio.get_event_loop()\n",
    "loop.run_until_complete(get_htmls(URLS))\n",
    "print(f'I\\'m Finish. {datetime.datetime.now() - start}')"
   ]
  },
  {
   "cell_type": "code",
   "execution_count": 189,
   "metadata": {},
   "outputs": [
    {
     "name": "stdout",
     "output_type": "stream",
     "text": [
      "['https://docs.python.org/3/library/ast.html', 'https://docs.python.org/3/library/abc.html', 'https://docs.python.org/3/library/time.html', 'https://docs.python.org/3/library/os.html', 'https://docs.python.org/3/library/sys.html', 'https://docs.python.org/3/library/io.html', 'https://docs.python.org/3/library/pdb.html', 'https://docs.python.org/3/library/weakref.html']\n",
      "Finished 'get_htmls' in 0.0000 secs\n",
      "get_htmls start\n",
      "fetch_all_urls start\n",
      "Finished 'fetch_url' in 0.0000 secs\n",
      "Finished 'fetch_url' in 0.0000 secs\n",
      "Finished 'fetch_url' in 0.0000 secs\n",
      "Finished 'fetch_url' in 0.0000 secs\n",
      "Finished 'fetch_url' in 0.0000 secs\n",
      "Finished 'fetch_url' in 0.0000 secs\n",
      "Finished 'fetch_url' in 0.0000 secs\n",
      "Finished 'fetch_url' in 0.0000 secs\n",
      "https://docs.python.org/3/library/sys.html  function start!!\n",
      "https://docs.python.org/3/library/time.html  function start!!\n",
      "https://docs.python.org/3/library/os.html  function start!!\n",
      "https://docs.python.org/3/library/weakref.html  function start!!\n",
      "https://docs.python.org/3/library/io.html  function start!!\n",
      "https://docs.python.org/3/library/ast.html  function start!!\n",
      "https://docs.python.org/3/library/pdb.html  function start!!\n",
      "https://docs.python.org/3/library/abc.html  function start!!\n",
      "https://docs.python.org/3/library/weakref.html  Starto |  MainThread  | pid: 64284  | parent id: 64150\n",
      "https://docs.python.org/3/library/weakref.html  Length is 65807. And spend 0:00:00.475088\n",
      "https://docs.python.org/3/library/ast.html  Starto |  MainThread  | pid: 64284  | parent id: 64150\n",
      "https://docs.python.org/3/library/ast.html  Length is 40378. And spend 0:00:00.637652\n",
      "https://docs.python.org/3/library/time.html  Starto |  MainThread  | pid: 64284  | parent id: 64150\n",
      "https://docs.python.org/3/library/time.html  Length is 91825. And spend 0:00:00.991173\n",
      "https://docs.python.org/3/library/abc.html  Starto |  MainThread  | pid: 64284  | parent id: 64150\n",
      "https://docs.python.org/3/library/abc.html  Length is 42048. And spend 0:00:01.108934\n",
      "https://docs.python.org/3/library/sys.html  Starto |  MainThread  | pid: 64284  | parent id: 64150\n",
      "https://docs.python.org/3/library/io.html  Starto |  MainThread  | pid: 64284  | parent id: 64150\n",
      "https://docs.python.org/3/library/pdb.html  Starto |  MainThread  | pid: 64284  | parent id: 64150\n",
      "https://docs.python.org/3/library/pdb.html  Length is 55728. And spend 0:00:03.441174\n",
      "https://docs.python.org/3/library/os.html  Starto |  MainThread  | pid: 64284  | parent id: 64150\n",
      "https://docs.python.org/3/library/os.html  Length is 426492. And spend 0:00:04.966681\n",
      "https://docs.python.org/3/library/sys.html  Length is 157852. And spend 0:00:05.495976\n",
      "https://docs.python.org/3/library/io.html  Length is 125181. And spend 0:00:05.911299\n",
      "fetch_all_urls Finish.\n",
      "I'm in get_htmls\n",
      "I'm Finish. 0:00:05.922790\n"
     ]
    }
   ],
   "source": [
    "@timer\n",
    "async def fetch_url(session, url):\n",
    "    print(url, ' function start!!')\n",
    "    start = datetime.datetime.now()\n",
    "    async with session.get(url, timeout=60 * 60) as response:\n",
    "        print(url, ' Starto | ', th.current_thread().name, f' | pid: {os.getpid()}', f' | parent id: {os.getppid()}')\n",
    "        html = await response.text()\n",
    "        print(url, f' Length is {len(html)}. And spend {datetime.datetime.now() - start}')\n",
    "\n",
    "async def fetch_all_urls(session, urls, loop):\n",
    "    print('fetch_all_urls start')\n",
    "    await asyncio.gather(*[fetch_url(session, url) for url in urls],\n",
    "    return_exceptions=True)\n",
    "    print('fetch_all_urls Finish.')\n",
    "\n",
    "@timer\n",
    "async def get_htmls(urls):\n",
    "    print('get_htmls start')\n",
    "    connector = aiohttp.TCPConnector(limit=100)\n",
    "    async with aiohttp.ClientSession(loop=loop, connector=connector) as session:\n",
    "        await fetch_all_urls(session, urls, loop)\n",
    "    print(f'I\\'m in get_htmls')\n",
    "\n",
    "print(URLS)\n",
    "start = datetime.datetime.now()\n",
    "loop = asyncio.get_event_loop()\n",
    "loop.run_until_complete(get_htmls(URLS))\n",
    "print(f'I\\'m Finish. {datetime.datetime.now() - start}')"
   ]
  },
  {
   "cell_type": "code",
   "execution_count": null,
   "metadata": {},
   "outputs": [],
   "source": []
  },
  {
   "cell_type": "code",
   "execution_count": null,
   "metadata": {},
   "outputs": [],
   "source": []
  }
 ],
 "metadata": {
  "kernelspec": {
   "display_name": "Python 3",
   "language": "python",
   "name": "python3"
  },
  "language_info": {
   "codemirror_mode": {
    "name": "ipython",
    "version": 3
   },
   "file_extension": ".py",
   "mimetype": "text/x-python",
   "name": "python",
   "nbconvert_exporter": "python",
   "pygments_lexer": "ipython3",
   "version": "3.6.8"
  }
 },
 "nbformat": 4,
 "nbformat_minor": 2
}
